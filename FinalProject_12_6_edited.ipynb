{
 "cells": [
  {
   "cell_type": "markdown",
   "metadata": {
    "id": "n5HkmD9XgtU9"
   },
   "source": [
    "# **Classifying Song Genres Based off of Song Lyrics**"
   ]
  },
  {
   "cell_type": "markdown",
   "metadata": {
    "id": "TfvH3gEhWQr0"
   },
   "source": [
    "## Introduction\n",
    "Natural language processing has achieved some impressive feats in recent years, such as automatic video transcription, ChatGPT like ChatGPT, and more. However, even the strongest natural language processing libraries can be limited by the quality of their input information, and not every dataset can provide clear distinctions or patterns between data. This project investigates one such case. \n",
    "\n",
    "The aim of this project is to determine how well one natural language processing algorithm, Bag of Words, can classify songs into genres based on only their lyrics. Bag of Words (BOW) is a natural language processing tool which creates vectors indicating the count of each word in a given sample, to allow textual data to be more easily compared. We predict that this will be a challenging application which cannot achieve near-perfect accuracy (>85%), because song lyrics and themes are often extremely similar across genres. However, by choosing the best classifier and hyperparameters within our options, we predict that our natural language processing model will be able to classify the songs significantly better than a \"random choice\" baseline model. \n",
    "\n",
    "We will tokenize and preprocess lyrics before entry into the Bag of Words algorithm, to ensure easily comparability between lyric sets. After preprocessing, to find the most accurate method of genre categorization, we will compare two methods of lyric entry, Word Count BOW and TF-IDF BOW. We will use sklearn’s TfidfVectorizer class to run BOW using TF-IDF classifications, and sklearn’s CountVectorizer class to run  BOW using word count.\n",
    "\n",
    "To classify the vectors into genres, and compare the accuracy of word count vs TF-IDF vectors for BOW, we will use the Random Forest Method. We will use a test, train, validation split to tune the hyperparameters in Bag of Words and Random Forest to get our maximum accuracy with Random Forest model. Then, we will compare the results of the Random Forest classifier to the L-GBM classifier (a booster) to determine which of these two classification methods can give optimal results. \n",
    "\n",
    "At each step, we are using matplotlib and pandas to visualize the results."
   ]
  },
  {
   "cell_type": "markdown",
   "metadata": {
    "id": "7e1i95QPwgjD"
   },
   "source": [
    "## Dataset Description\n",
    "For our project we used a large 72.8MB csv file called 'english_cleaned_lyrics' that holds 5 *useful* features with 218,210 songs or examples. The features that discribe each song include:\n",
    "\n",
    "| Feature     | Property | Description|\n",
    "| ----------- | ----------- |-----------|\n",
    "| Song        | Categorical |Title of the song|\n",
    "| Year        | Categorical |Year it was released|\n",
    "| Artist      | Categorical |Who produced the song|\n",
    "| Genre       | Categorical |Genre of the song|\n",
    "|Lyrics       | Categorical |Every lyric (word) in the song|\n",
    "\n",
    "\n",
    "The target labels in our experiment that we will use for classification are:\n",
    "\n",
    "| Label    | Distribution |\n",
    "| ----------- | ----------- |\n",
    "| Pop         | 34137|\n",
    "| Hip-hop     | 22654|\n",
    "| Rock        | 10053|\n",
    "| Metal       | 21210|\n",
    "| Country     | 14158|\n",
    "| Electronic  |  6942|\n",
    "| Jazz        |  7310|\n",
    "| Folk        |  1689|\n",
    "| Indie       |  2935|\n",
    "| R&B         |  3336|\n",
    "| Other       |  3786|\n",
    "\n",
    "\n",
    "This large dataset will improve our model accuracy, reduce over or underfitting, and ensure that our model is a scalable solution applicable to real world uses.\n",
    "\n",
    "This dataset can be found at found at: https://github.com/hiteshyalamanchili/SongGenreClassification/blob/master/dataset/english_cleaned_lyrics.zip"
   ]
  },
  {
   "cell_type": "code",
   "execution_count": 1,
   "metadata": {
    "id": "mPLGnnySBOoD"
   },
   "outputs": [],
   "source": [
    "import pandas as pd\n",
    "import numpy as np\n",
    "from matplotlib import pyplot as plt"
   ]
  },
  {
   "cell_type": "markdown",
   "metadata": {
    "id": "1z_kf0uEbq_E"
   },
   "source": []
  },
  {
   "cell_type": "markdown",
   "metadata": {
    "id": "VjjjCrXdvx2K"
   },
   "source": [
    "## Here are the first 5 songs of our dataset"
   ]
  },
  {
   "cell_type": "code",
   "execution_count": 2,
   "metadata": {
    "id": "pUt4XIBHBil8",
    "outputId": "1346702d-e78a-4514-a3ce-b7ca736f0060"
   },
   "outputs": [
    {
     "data": {
      "text/html": [
       "<div>\n",
       "<style scoped>\n",
       "    .dataframe tbody tr th:only-of-type {\n",
       "        vertical-align: middle;\n",
       "    }\n",
       "\n",
       "    .dataframe tbody tr th {\n",
       "        vertical-align: top;\n",
       "    }\n",
       "\n",
       "    .dataframe thead th {\n",
       "        text-align: right;\n",
       "    }\n",
       "</style>\n",
       "<table border=\"1\" class=\"dataframe\">\n",
       "  <thead>\n",
       "    <tr style=\"text-align: right;\">\n",
       "      <th></th>\n",
       "      <th>Unnamed: 0</th>\n",
       "      <th>index</th>\n",
       "      <th>song</th>\n",
       "      <th>year</th>\n",
       "      <th>artist</th>\n",
       "      <th>genre</th>\n",
       "      <th>lyrics</th>\n",
       "    </tr>\n",
       "  </thead>\n",
       "  <tbody>\n",
       "    <tr>\n",
       "      <th>0</th>\n",
       "      <td>0</td>\n",
       "      <td>0</td>\n",
       "      <td>ego-remix</td>\n",
       "      <td>2009</td>\n",
       "      <td>beyonce-knowles</td>\n",
       "      <td>Pop</td>\n",
       "      <td>Oh baby how you doing You know I'm gonna cut r...</td>\n",
       "    </tr>\n",
       "    <tr>\n",
       "      <th>1</th>\n",
       "      <td>1</td>\n",
       "      <td>1</td>\n",
       "      <td>then-tell-me</td>\n",
       "      <td>2009</td>\n",
       "      <td>beyonce-knowles</td>\n",
       "      <td>Pop</td>\n",
       "      <td>playin everything so easy it's like you seem s...</td>\n",
       "    </tr>\n",
       "    <tr>\n",
       "      <th>2</th>\n",
       "      <td>2</td>\n",
       "      <td>2</td>\n",
       "      <td>honesty</td>\n",
       "      <td>2009</td>\n",
       "      <td>beyonce-knowles</td>\n",
       "      <td>Pop</td>\n",
       "      <td>If you search For tenderness It isn't hard to ...</td>\n",
       "    </tr>\n",
       "    <tr>\n",
       "      <th>3</th>\n",
       "      <td>3</td>\n",
       "      <td>3</td>\n",
       "      <td>you-are-my-rock</td>\n",
       "      <td>2009</td>\n",
       "      <td>beyonce-knowles</td>\n",
       "      <td>Pop</td>\n",
       "      <td>Oh oh oh I oh oh oh I If I wrote a book about ...</td>\n",
       "    </tr>\n",
       "    <tr>\n",
       "      <th>4</th>\n",
       "      <td>4</td>\n",
       "      <td>4</td>\n",
       "      <td>black-culture</td>\n",
       "      <td>2009</td>\n",
       "      <td>beyonce-knowles</td>\n",
       "      <td>Pop</td>\n",
       "      <td>Party the people the people the party it's pop...</td>\n",
       "    </tr>\n",
       "  </tbody>\n",
       "</table>\n",
       "</div>"
      ],
      "text/plain": [
       "   Unnamed: 0  index             song  year           artist genre  \\\n",
       "0           0      0        ego-remix  2009  beyonce-knowles   Pop   \n",
       "1           1      1     then-tell-me  2009  beyonce-knowles   Pop   \n",
       "2           2      2          honesty  2009  beyonce-knowles   Pop   \n",
       "3           3      3  you-are-my-rock  2009  beyonce-knowles   Pop   \n",
       "4           4      4    black-culture  2009  beyonce-knowles   Pop   \n",
       "\n",
       "                                              lyrics  \n",
       "0  Oh baby how you doing You know I'm gonna cut r...  \n",
       "1  playin everything so easy it's like you seem s...  \n",
       "2  If you search For tenderness It isn't hard to ...  \n",
       "3  Oh oh oh I oh oh oh I If I wrote a book about ...  \n",
       "4  Party the people the people the party it's pop...  "
      ]
     },
     "execution_count": 2,
     "metadata": {},
     "output_type": "execute_result"
    }
   ],
   "source": [
    "df = pd.read_csv(\"english_cleaned_lyrics.csv\")\n",
    "df.head()"
   ]
  },
  {
   "cell_type": "markdown",
   "metadata": {
    "id": "K0c5A91PP5Yu"
   },
   "source": [
    "## Preprocess lyric data to remove stopwords & uppercase letters"
   ]
  },
  {
   "cell_type": "code",
   "execution_count": 4,
   "metadata": {
    "id": "dyTlUmiLTlns"
   },
   "outputs": [],
   "source": [
    "df['lyrics'] = df['lyrics'].apply(lambda x: \" \".join(x.lower() for x in x.split() if x.isalpha()))\n"
   ]
  },
  {
   "cell_type": "markdown",
   "metadata": {
    "id": "3vXh4Hy9PqZr"
   },
   "source": [
    "## Process dataset into X (feature matrix), y (label array) format"
   ]
  },
  {
   "cell_type": "code",
   "execution_count": 5,
   "metadata": {
    "id": "aPwgx15_CtqG",
    "outputId": "23a1750a-ad7e-44f8-cd32-a05d39801b5d"
   },
   "outputs": [
    {
     "data": {
      "text/plain": [
       "(218210, 7)"
      ]
     },
     "execution_count": 5,
     "metadata": {},
     "output_type": "execute_result"
    }
   ],
   "source": [
    "#Create a feature matrix and labels vector from the given data.\n",
    "X = df.iloc[:,:].values\n",
    "y = df['genre']\n",
    "X.shape"
   ]
  },
  {
   "cell_type": "code",
   "execution_count": 6,
   "metadata": {
    "id": "6piv0lXD0gE0",
    "outputId": "27d21be0-8aa9-4528-e1e2-95dfd88202c4",
    "scrolled": true
   },
   "outputs": [
    {
     "name": "stdout",
     "output_type": "stream",
     "text": [
      "[[0 0 'ego-remix' 2009 'beyonce-knowles' 'Pop'\n",
      "  'oh baby how you doing you know gonna cut right to the chase some women were made but me myself i like to think that i was created for a special purpose you know more special than you you feel me on baby get lost you need to call into work cause the boss for real want you to show me how you feel i consider myself lucky a big deal why well you got the key to my heart but you gonna need it rather you open up my body and show me secrets you know was inside no need for me to lie too big too wide too strong it fit too much too tough he talk like this cause he can back it up he got a big ego such a huge ego i love his big ego too much he walk like this cause he can back it up usually humble right now i choose you can leave with me or you could have the blues some call it arrogant i call it confident you decide when you find on what working with damn i know killing you with them legs better yet them thighs matter a fact my smile or maybe my eyes boy you a site to see kind of something like me too big too wide too strong it fit too much too tough i talk like this cause i can back it up i got a big ego such a huge ego but he love my big ego too much i walk like this cause i can back it up i i walk like this cause i can back it up i i talk like this cause i can back it up i i can back it up i can back it up i walk like this cause i can back it up too big too wide too strong it fit too much too tough he talk like this cause he can back it up he got a big ego such a huge ego such a huge ego i love his big ego too much he walk like this cause he can back it up ego so big you must admit i got every reason to feel like that bitch ego so strong if you know i need no beat i can sing it with piano']]\n"
     ]
    }
   ],
   "source": [
    "print (X[:1])"
   ]
  },
  {
   "cell_type": "markdown",
   "metadata": {
    "id": "ShbNMCPwyLja"
   },
   "source": [
    "## Split Data into test, train, and validation sets\n"
   ]
  },
  {
   "cell_type": "code",
   "execution_count": 7,
   "metadata": {
    "id": "6hsINA8m2-uT"
   },
   "outputs": [],
   "source": [
    "from sklearn.model_selection import train_test_split\n",
    "\n",
    "lyrics_data = df['lyrics'].reset_index(drop=True)\n",
    "genres_data = df['genre'].reset_index(drop=True)\n",
    "\n",
    "#train = 70%, valid = 20%, test = 10%\n",
    "X_train, X_test, y_train, y_test = train_test_split(\n",
    "    lyrics_data, genres_data, test_size=0.3, random_state=5)\n",
    "\n",
    "X_valid, X_test, y_valid, y_test = train_test_split(\n",
    "    X_test, y_test, test_size=0.33, random_state=5)"
   ]
  },
  {
   "cell_type": "markdown",
   "metadata": {
    "id": "UvvdfvXg88zr"
   },
   "source": [
    "## Use CountVectorizer class to get BOW vectors based on words"
   ]
  },
  {
   "cell_type": "code",
   "execution_count": 8,
   "metadata": {
    "id": "6BH2DFJXzkdT"
   },
   "outputs": [],
   "source": [
    "from sklearn.feature_extraction.text import CountVectorizer\n",
    "stop_words = set(stopwords.words('english'))\n"
   ]
  },
  {
   "cell_type": "code",
   "execution_count": 9,
   "metadata": {
    "id": "4HEjZCy3tpub"
   },
   "outputs": [],
   "source": [
    "def vectorizeBOWtraintestvalid(X_train, X_test, X_valid, min_df=None):\n",
    "    if min_df != None: \n",
    "        bow_vectorizer = CountVectorizer(stop_words='english', analyzer='word', min_df=min_df)\n",
    "    else:\n",
    "        bow_vectorizer = CountVectorizer(stop_words='english', analyzer='word')\n",
    "    \n",
    "    X_train_bow = bow_vectorizer.fit_transform(X_train)\n",
    "    X_valid_bow = bow_vectorizer.transform(X_valid)\n",
    "    X_test_bow = bow_vectorizer.transform(X_test)\n",
    "    \n",
    "    return X_train_bow, X_test_bow, X_valid_bow"
   ]
  },
  {
   "cell_type": "markdown",
   "metadata": {
    "id": "Eyioe2IDzZtr"
   },
   "source": [
    "## Use TfidfVectorizer to get BOW based on Tf-IDF weighting class"
   ]
  },
  {
   "cell_type": "code",
   "execution_count": 10,
   "metadata": {
    "id": "IvGG-hAPz2um"
   },
   "outputs": [],
   "source": [
    "# this bag of words generates a matrix based directly on TF-IDF weighting scale, for each song's lyrics\n",
    "from sklearn.feature_extraction.text import TfidfVectorizer\n",
    "\n",
    "def vectorizeTFIDFtraintestvalid(X_train, X_test, X_valid, min_df = None):\n",
    "\n",
    "    if min_df != None:\n",
    "        tfidf_vectorizer = TfidfVectorizer(min_df=min_df, stop_words='english', analyzer='word')\n",
    "\n",
    "    else:\n",
    "        tfidf_vectorizer = TfidfVectorizer(stop_words='english', analyzer='word')\n",
    "\n",
    "    X_train_tfidf = tfidf_vectorizer.fit_transform(X_train)\n",
    "\n",
    "    X_valid_tfidf = tfidf_vectorizer.transform(X_valid)\n",
    "    X_test_tfidf = tfidf_vectorizer.transform(X_test)\n",
    "    return X_train_tfidf, X_test_tfidf, X_valid_tfidf\n",
    "\n",
    "\n"
   ]
  },
  {
   "cell_type": "markdown",
   "metadata": {
    "id": "3BPYkOgv1zsc"
   },
   "source": [
    "## Using Random Forests predictions, tune min_df Hyperparameter on BOW, then Compare Accuracy on 2 BOW Types"
   ]
  },
  {
   "cell_type": "code",
   "execution_count": 11,
   "metadata": {
    "id": "WvqXQjWH1uUs"
   },
   "outputs": [],
   "source": [
    "from sklearn.ensemble import RandomForestClassifier\n",
    "\n",
    "def run_random_forest(X_train, X_valid, y_train, y_valid, n_estimators=100, random_state=5, n_jobs=12):\n",
    "    rf_classifier = RandomForestClassifier(n_estimators=n_estimators, random_state=random_state, n_jobs=n_jobs)\n",
    "\n",
    "    rf_classifier.fit(X_train, y_train)\n",
    "\n",
    "    y_valid_pred_rf = rf_classifier.predict(X_valid)\n",
    "\n",
    "    accuracy = np.mean(y_valid_pred_rf == y_valid)\n",
    "\n",
    "    return accuracy\n"
   ]
  },
  {
   "cell_type": "code",
   "execution_count": 12,
   "metadata": {
    "id": "ftXrXoaftpuc"
   },
   "outputs": [
    {
     "name": "stdout",
     "output_type": "stream",
     "text": [
      "Accuracy of TD-IDF BOW with min_df = None: 0.6029639762881897\n",
      "Accuracy of TD-IDF BOW with min_df = 0.1: 0.5666438668490652\n",
      "Accuracy of TD-IDF BOW with min_df = 0.01: 0.6101915184678522\n",
      "Accuracy of TD-IDF BOW with min_df = 0.05: 0.5947104423164614\n",
      "Accuracy of TD-IDF BOW with min_df = 0.005: 0.6133378932968536\n",
      "Accuracy of TD-IDF BOW with min_df = 0.001: 0.6140218878248974\n",
      "Accuracy of TD-IDF BOW with min_df = 0.0005: 0.6145234838121295\n",
      "Accuracy of TD-IDF BOW with min_df = 0.0003: 0.6129958960328318\n",
      "Accuracy of TD-IDF BOW with min_df = 0.0001: 0.6115595075239398\n"
     ]
    }
   ],
   "source": [
    "#iterate through the possible min_df hyperparameters in TF-IDF Vectorizer to find the optimal one\n",
    "#accuracy is checked using Random Forest\n",
    "min_df_values = [None, 0.1, 0.01, 0.05, 0.005, 0.001, 0.0005, 0.0003, 0.0001]\n",
    "\n",
    "tfidf_tuples = []\n",
    "accuracies_mindf = []\n",
    "\n",
    "for min_df in min_df_values:\n",
    "    X_train_tfidf, X_test_tfidf, X_valid_tfidf = vectorizeTFIDFtraintestvalid(X_train, X_test, X_valid, min_df=min_df)\n",
    "    tfidf_tuples.append((X_train_tfidf, X_test_tfidf, X_valid_tfidf))\n",
    "\n",
    "    accuracy = run_random_forest(X_train_tfidf, X_valid_tfidf, y_train, y_valid)\n",
    "    accuracies_mindf.append(accuracy)\n",
    "    print(f\"Accuracy of TD-IDF BOW with min_df = {min_df}: {accuracy}\")\n"
   ]
  },
  {
   "cell_type": "code",
   "execution_count": 13,
   "metadata": {
    "id": "Yr4KDyGZtpud",
    "outputId": "33ff74ca-a85f-4164-ef60-d37331beb3d2"
   },
   "outputs": [
    {
     "name": "stdout",
     "output_type": "stream",
     "text": [
      "Accuracy of Word Count BOW with min_df = None: 0.6063611491108071\n",
      "Accuracy of Word Count BOW with min_df = 0.1: 0.5672138622891016\n",
      "Accuracy of Word Count BOW with min_df = 0.01: 0.6131326949384405\n",
      "Accuracy of Word Count BOW with min_df = 0.05: 0.5982216142270862\n",
      "Accuracy of Word Count BOW with min_df = 0.005: 0.6161194710442316\n",
      "Accuracy of Word Count BOW with min_df = 0.001: 0.6170086639306885\n",
      "Accuracy of Word Count BOW with min_df = 0.0005: 0.6173734610123119\n",
      "Accuracy of Word Count BOW with min_df = 0.0003: 0.6164158686730506\n",
      "Accuracy of Word Count BOW with min_df = 0.0001: 0.6141358869129047\n"
     ]
    }
   ],
   "source": [
    "#iterate through the possible min_df hyperparameters in Word Count Vectorizer to find the optimal one\n",
    "#accuracy is checked using Random Forest\n",
    "\n",
    "bow_tuples = []\n",
    "accuracies_mindf_bow = []\n",
    "\n",
    "for min_df in min_df_values:\n",
    "    X_train_bow, X_test_bow, X_valid_bow = vectorizeBOWtraintestvalid(X_train, X_test, X_valid, min_df=min_df)\n",
    "    bow_tuples.append((X_train_bow, X_test_bow, X_valid_bow))\n",
    "\n",
    "    accuracy = run_random_forest(X_train_bow, X_valid_bow, y_train, y_valid)\n",
    "    accuracies_mindf_bow.append(accuracy)\n",
    "    print(f\"Accuracy of Word Count BOW with min_df = {min_df}: {accuracy}\")"
   ]
  },
  {
   "cell_type": "code",
   "execution_count": 14,
   "metadata": {
    "id": "nebxQWhztpud",
    "outputId": "9821e71a-7a5c-42c8-b5ea-9f1697eccb8d"
   },
   "outputs": [
    {
     "data": {
      "image/png": "[encoded data removed]",
      "text/plain": [
       "<Figure size 1000x600 with 1 Axes>"
      ]
     },
     "metadata": {},
     "output_type": "display_data"
    },
    {
     "data": {
      "image/png": "[encoded data removed]",
      "text/plain": [
       "<Figure size 1000x600 with 1 Axes>"
      ]
     },
     "metadata": {},
     "output_type": "display_data"
    }
   ],
   "source": [
    "import matplotlib.pyplot as plt\n",
    "\n",
    "# plot the accuracies at different mindf values for tfidf bow\n",
    "#switched 2nd and 3rd index in all because I realized .01 and .05 were out of order\n",
    "labels = [\"default\", \"0.1\", \"0.01\", \"0.05\", \"0.005\", \"0.001\", \"0.0005\", \"0.0003\", \"0.0001\"]\n",
    "labels[2], labels[3] = labels[3], labels[2]\n",
    "accuracies_mindf[2], accuracies_mindf[3] = accuracies_mindf[3], accuracies_mindf[2]\n",
    "accuracies_mindf_bow[2], accuracies_mindf_bow[3] = accuracies_mindf_bow[3], accuracies_mindf_bow[2]\n",
    "\n",
    "plt.figure(figsize=(10, 6))\n",
    "plt.plot(labels, accuracies_mindf, marker='o', linestyle='-', color='b')\n",
    "plt.title(\"TF-IDF BOW Accuracy With Differing min_df Hyperparameter\")\n",
    "plt.xlabel(\"min_df value\")\n",
    "plt.ylabel(\"Random Forest Accuracy\")\n",
    "plt.grid(True)\n",
    "\n",
    "plt.tight_layout()\n",
    "plt.show()\n",
    "\n",
    "\n",
    "# plot the accuracies at different mindf values for word count bow\n",
    "plt.figure(figsize=(10, 6))\n",
    "plt.plot(labels, accuracies_mindf_bow, marker='o', linestyle='-', color='b')\n",
    "plt.title(\"Word Count BOW Accuracy With Differing min_df Hyperparameter\")\n",
    "plt.xlabel(\"min_df value\")\n",
    "plt.ylabel(\"Random Forest Accuracy\")\n",
    "plt.grid(True)\n",
    "\n",
    "plt.tight_layout()\n",
    "plt.show()"
   ]
  },
  {
   "cell_type": "code",
   "execution_count": 16,
   "metadata": {
    "id": "DpbIrx-1tpue",
    "outputId": "47daee18-0481-4306-ef4c-545bfee14da7"
   },
   "outputs": [
    {
     "name": "stdout",
     "output_type": "stream",
     "text": [
      "Accuracy of Word Count BOW vs TF-IDF with Optimal min_df\n"
     ]
    },
    {
     "data": {
      "text/html": [
       "<div>\n",
       "<style scoped>\n",
       "    .dataframe tbody tr th:only-of-type {\n",
       "        vertical-align: middle;\n",
       "    }\n",
       "\n",
       "    .dataframe tbody tr th {\n",
       "        vertical-align: top;\n",
       "    }\n",
       "\n",
       "    .dataframe thead th {\n",
       "        text-align: right;\n",
       "    }\n",
       "</style>\n",
       "<table border=\"1\" class=\"dataframe\">\n",
       "  <thead>\n",
       "    <tr style=\"text-align: right;\">\n",
       "      <th></th>\n",
       "      <th>Max Accuracy with Word Count BOW</th>\n",
       "      <th>Max Accuracy with TF-IDF</th>\n",
       "    </tr>\n",
       "  </thead>\n",
       "  <tbody>\n",
       "    <tr>\n",
       "      <th>0</th>\n",
       "      <td>0.617373</td>\n",
       "      <td>0.614523</td>\n",
       "    </tr>\n",
       "  </tbody>\n",
       "</table>\n",
       "</div>"
      ],
      "text/plain": [
       "   Max Accuracy with Word Count BOW  Max Accuracy with TF-IDF\n",
       "0                          0.617373                  0.614523"
      ]
     },
     "execution_count": 16,
     "metadata": {},
     "output_type": "execute_result"
    }
   ],
   "source": [
    "max_accuracy_wordcount = max(accuracies_mindf_bow)\n",
    "max_accuracy_tfidf = max(accuracies_mindf)\n",
    "\n",
    "data = {\n",
    "    \"Max Accuracy with Word Count BOW\": [max_accuracy_wordcount],\n",
    "    \"Max Accuracy with TF-IDF\": [max_accuracy_tfidf]\n",
    "}\n",
    "\n",
    "df = pd.DataFrame(data)\n",
    "\n",
    "print(\"Accuracy of Word Count BOW vs TF-IDF with Optimal min_df\")\n",
    "df"
   ]
  },
  {
   "cell_type": "code",
   "execution_count": 17,
   "metadata": {},
   "outputs": [
    {
     "name": "stdout",
     "output_type": "stream",
     "text": [
      "Optimal Constants for Word Count vs TF-IDF BOW\n"
     ]
    },
    {
     "data": {
      "text/html": [
       "<div>\n",
       "<style scoped>\n",
       "    .dataframe tbody tr th:only-of-type {\n",
       "        vertical-align: middle;\n",
       "    }\n",
       "\n",
       "    .dataframe tbody tr th {\n",
       "        vertical-align: top;\n",
       "    }\n",
       "\n",
       "    .dataframe thead th {\n",
       "        text-align: right;\n",
       "    }\n",
       "</style>\n",
       "<table border=\"1\" class=\"dataframe\">\n",
       "  <thead>\n",
       "    <tr style=\"text-align: right;\">\n",
       "      <th></th>\n",
       "      <th>Best min_df Constant Word Count BOW</th>\n",
       "      <th>Best min_df Constant TF-IDF</th>\n",
       "    </tr>\n",
       "  </thead>\n",
       "  <tbody>\n",
       "    <tr>\n",
       "      <th>0</th>\n",
       "      <td>.0005</td>\n",
       "      <td>.0005</td>\n",
       "    </tr>\n",
       "  </tbody>\n",
       "</table>\n",
       "</div>"
      ],
      "text/plain": [
       "  Best min_df Constant Word Count BOW Best min_df Constant TF-IDF\n",
       "0                               .0005                       .0005"
      ]
     },
     "execution_count": 17,
     "metadata": {},
     "output_type": "execute_result"
    }
   ],
   "source": [
    "\n",
    "data = {\n",
    "    \"Best min_df Constant Word Count BOW\": [\".0005\"],\n",
    "    \"Best min_df Constant TF-IDF\": [\".0005\"]\n",
    "}\n",
    "\n",
    "df = pd.DataFrame(data)\n",
    "print(\"Optimal Constants for Word Count vs TF-IDF BOW\")\n",
    "df"
   ]
  },
  {
   "cell_type": "markdown",
   "metadata": {},
   "source": [
    "## Methods 1: Data Input, Preprocessing, Bag of Words Vectorizer, & Hyperparameter Tuning for Bag of Words\n",
    "\n",
    "#### Preprocessing:\n",
    "Initially, we brought in the dataset using pandas read_csv method. We then separated the data into a train, validation, \n",
    "and test set, with splits of train = 70%, valid = 20%, test = 10%. The validation set will be used for tuning our \n",
    "hyperparameters, and the test set will be used for determining the \"real world\" accuracy of our dataset after hyperparameters are tuned. \n",
    "\n",
    "Before running the dataset through Bag of Words, we process all of the lyrics to be lowercase, so that the same word in uppercase and lowercase will be classified the same in the vectors. We also process the data to remove english stopwords. This includes words like the, and, it, on, which are so common that they are not helpful to the analysis. We did not have to remove punctuation, because this was already removed in the starting dataset. \n",
    "\n",
    "We did not standardize the data, because we are using Random Forests and L-GBM as our classifiers, and standardization does not tend to be helpful in either of these methods. \n",
    "\n",
    "#### Bag of Words Vectorizers and TF-IDF:\n",
    "\n",
    "Next, we run our lyrics data through two types of Bag of Words Vectorizers - CountVectorizer and TfidfVectorizer. Word Count Bag of Words Vectorizer turns the list of lyrics into vectors of count for each word. For example if we had just two songs:\n",
    "\n",
    "Song1: lyrics = \"jingle bells jingle bells jingle all the way\"\n",
    "Song2: lyrics = \"here comes the sun here comes the sun its alright\"\n",
    "\n",
    "The resultant word count vectors for row1 = Song1, row2 = Song2 would be something like:\n",
    "\n",
    "\\[3, 2, 1, 1, 1, 0, 0, 0, 0\\]  \n",
    "\\[0, 0, 0, 2, 0, 2, 1, 1, 1\\]\n",
    "\n",
    "corresponding to the labels:\n",
    "\n",
    "\\[jingle, bells, all, the, way, here, comes, sun, alright\\]\n",
    "\n",
    "The TF-IDF Vectorizer creates similar vectors, except that the value of each feature (word) is a TF-IDF score, instead of the direct word count. A TF-IDF score gives words scores based on the number of times it shows up in a particular song, and the number of times it shows up in other songs. Words with the highest score will be ones that show up frequently in one song, but less frequently in all other songs. The purpose of this is to decrease the feature importance of words like \"the\" or \"and\", which show up in just about every song, and are therefore not as relevant for classification.\n",
    "\n",
    "#### BOW Hyperparameter tuning, and Comparison Between 2 BOW Methods (TF-IDF vs Word Count)\n",
    "\n",
    "TF-IDF Bag of Words and word count Bag of Words both use a min-df hyperparameter, which specifies what percentage of documents a word should be present in in order to be included in the final matrix. So if a word only shows up in a single song, and we have 250,000 songs, then that word will be dropped from the final matrix at a min_df of .1. The word would need to be in 2500 songs to be included in the final matrix, at this min_df value. We compare a wide range of min_df hyperparameters on the same train and validation set, to determine which will result in the best performance.\n",
    "\n",
    "Our results show that .0005 is the best min_df constant for both TF-IDF and word count bow, giving accuracy of 61.45% and 61.73%, respectively, on the validation set. The accuracy of Word Count BOW is actually slightly higher than the TF-IDF BOW. For this reason, we will use the word count BOW (CountVectorizer) with a min_df of .0005 for our predictions.\n",
    "\n",
    "The higher performance of word count than TF-IDF could be because TF-IDF gives a lower rating to words that show up across many songs (because of the IDF portion) and these words may be helpful for classification of similar genres."
   ]
  },
  {
   "cell_type": "markdown",
   "metadata": {
    "id": "PhGd94rvtpuf"
   },
   "source": [
    "## Run Random Forests on Test, Train, and Validation Set Vectors with Multiple constant (num_component) Values, to Determine the Optimal Constant"
   ]
  },
  {
   "cell_type": "code",
   "execution_count": 19,
   "metadata": {},
   "outputs": [],
   "source": [
    "X_train_wordCount_0005, X_test_wordCount_0005, X_valid_wordCount_0005 = bow_tuples[6]"
   ]
  },
  {
   "cell_type": "code",
   "execution_count": 20,
   "metadata": {
    "id": "BmE3eUiItpuf"
   },
   "outputs": [],
   "source": [
    "# Frequently, more n_estimators (more decision trees being compared in the random forest) increases\n",
    "# the accuracy. We see if an increased or decreased n_estimators value will improve accuracy here.\n",
    "\n",
    "n_estimators_values = [10, 100, 200, 300]\n",
    "\n",
    "# Initialize a list to store accuracies\n",
    "accuracies_nestimators = []\n",
    "\n",
    "for val in n_estimators_values:\n",
    "    accuracy = run_random_forest(X_train_wordCount_0005, X_valid_wordCount_0005, y_train, y_valid, n_estimators=val)\n",
    "    accuracies_nestimators.append(accuracy)"
   ]
  },
  {
   "cell_type": "code",
   "execution_count": 21,
   "metadata": {
    "id": "p3vKIEXetpug",
    "outputId": "33558fbf-20ac-4a2f-d241-acbbb613aace"
   },
   "outputs": [
    {
     "name": "stdout",
     "output_type": "stream",
     "text": [
      "Accuracy of Random Forest with n_estimators = 10\n",
      "0.596625626994984\n",
      "Accuracy of Random Forest with n_estimators = 100\n",
      "0.6173734610123119\n",
      "Accuracy of Random Forest with n_estimators = 200\n",
      "0.6175102599179206\n",
      "Accuracy of Random Forest with n_estimators = 300\n",
      "0.6168034655722754\n"
     ]
    },
    {
     "data": {
      "image/png": "[encoded data removed]",
      "text/plain": [
       "<Figure size 1000x600 with 1 Axes>"
      ]
     },
     "metadata": {},
     "output_type": "display_data"
    }
   ],
   "source": [
    "# we visualize the results of our n_estimators test runs .\n",
    "for i in range(len(accuracies_nestimators)):\n",
    "    print(\"Accuracy of Random Forest with n_estimators = \" + str(n_estimators_values[i]))\n",
    "    print(accuracies_nestimators[i])\n",
    "\n",
    "import matplotlib.pyplot as plt\n",
    "\n",
    "# plot accuracies at different num_components for random forest on Word Count\n",
    "labels = [10, 100, 200, 300]\n",
    "\n",
    "plt.figure(figsize=(10, 6))\n",
    "plt.plot(labels, accuracies_nestimators, marker='o', linestyle='-', color='b')\n",
    "plt.title(\"Random Forest Accuracy (on Word Count BOW) with Differing n_estimators Hyperparameter\")\n",
    "plt.xlabel(\"n_estimators value\")\n",
    "plt.ylabel(\"Random Forest Accuracy\")\n",
    "plt.grid(True)\n",
    "\n",
    "plt.tight_layout()\n",
    "plt.show()"
   ]
  },
  {
   "cell_type": "markdown",
   "metadata": {
    "id": "10kel-3Qtpuh"
   },
   "source": [
    "## Run Word Count BOW Random Forest on Test Set with Optimal HyperParameters"
   ]
  },
  {
   "cell_type": "code",
   "execution_count": 22,
   "metadata": {
    "id": "n2OzH8O3tpuh",
    "outputId": "d30942a5-921c-4555-814f-a84179fe1083"
   },
   "outputs": [
    {
     "name": "stdout",
     "output_type": "stream",
     "text": [
      "Accuracy of Word Count Random Forest on Test set With Optimal HyperParameters (min_df = .0005, n_estimators = 100): \n",
      "0.6139887978521502\n"
     ]
    }
   ],
   "source": [
    "accuracy_rf_optimal = run_random_forest(X_train_wordCount_0005, X_test_wordCount_0005, y_train, y_test, n_estimators=100)\n",
    "print(\"Accuracy of Word Count Random Forest on Test set With Optimal HyperParameters (min_df = .0005, n_estimators = 100): \")\n",
    "print(accuracy_rf_optimal)"
   ]
  },
  {
   "cell_type": "markdown",
   "metadata": {
    "id": "dTduc4Eotpug"
   },
   "source": [
    "## Methods 2: Tune Random Forests Hyperparameter, and Determine \"Real World\" Accuracy:\n",
    "\n",
    "#### Hyperparameter Tuning for Random Forest\n",
    "Now that we have determined that Word Count is the best Bag of Words method, and that min_df = .0005 is its optimal hyperparameter, we want to tune the hyperparameter for the Random Forest classifier.\n",
    "\n",
    "The n_estimators parameter in random forests specifies the number of separate decision trees which will be used to get the final prediction on a data point. Since random forests are resilient to overfitting, a high n_estimators value typically improves the results. However, a higher n_estimators value also can increase the runtime, so we want to find the point where increasing the n_estimators values does not significantly increase the accuracy anymore, and stop there. \n",
    "\n",
    "Our results show that an n_estimators value of 200 provides the best results, with 61.75% accuracy. However this is almost identical to the accuracy at 100 n_estimators, with 61.74% accuracy, and 100 n_estimators runs signficantly faster. For this reason, we opt to use n_estimators = 100.\n",
    "\n",
    "#### Test Set Accuracy For Random Forest with Optimal Hyperparameters and BOW Choice\n",
    "\n",
    "Now that the optimal BOW classifier choice (Word Count), BOW hyperparameter (min_df = .0005) and random forest hyperparameter (n_estimators = 100) have been determined, we run our classifier on the test set, to get an estimate of how we could expect this classifier to behave in the \"real world\". This gives us an accuracy of 61.40%. "
   ]
  },
  {
   "cell_type": "markdown",
   "metadata": {
    "id": "A6doTRhntpus"
   },
   "source": [
    "## Determine if a Booster (L-GBM) can get better results than Random Forest Algorithm"
   ]
  },
  {
   "cell_type": "code",
   "execution_count": 23,
   "metadata": {
    "id": "N90G5S5Ktpus",
    "outputId": "7771d1d4-f293-49a6-c162-29b8d499f5fa",
    "scrolled": true
   },
   "outputs": [
    {
     "name": "stderr",
     "output_type": "stream",
     "text": [
      "C:\\Users\\Nicole\\miniconda3\\Lib\\site-packages\\lightgbm\\engine.py:172: UserWarning: Found `num_round` in params. Will use it instead of argument\n",
      "  _log_warning(f\"Found `{alias}` in params. Will use it instead of argument\")\n"
     ]
    },
    {
     "name": "stdout",
     "output_type": "stream",
     "text": [
      "[LightGBM] [Info] Auto-choosing row-wise multi-threading, the overhead of testing was 1.362081 seconds.\n",
      "You can set `force_row_wise=true` to remove the overhead.\n",
      "And if memory is not enough, you can set `force_col_wise=true`.\n",
      "[LightGBM] [Info] Total Bins 72457\n",
      "[LightGBM] [Info] Number of data points in the train set: 152747, number of used features: 8983\n",
      "[LightGBM] [Info] Start training from score -2.741515\n",
      "[LightGBM] [Info] Start training from score -3.452075\n",
      "[LightGBM] [Info] Start training from score -4.865814\n",
      "[LightGBM] [Info] Start training from score -2.272133\n",
      "[LightGBM] [Info] Start training from score -4.296415\n",
      "[LightGBM] [Info] Start training from score -3.393872\n",
      "[LightGBM] [Info] Start training from score -2.327690\n",
      "[LightGBM] [Info] Start training from score -4.053469\n",
      "[LightGBM] [Info] Start training from score -1.849189\n",
      "[LightGBM] [Info] Start training from score -4.178632\n",
      "[LightGBM] [Info] Start training from score -0.780259\n",
      "Accuracy of L-GBM Booster on Word Count BOW Data (Validation Set) with 300 Boosting Rounds: \n",
      "0.6225262197902417\n",
      "Accuracy of L-GBM Booster on Word Count BOW Data (Test Set) with 300 Boosting Rounds: \n",
      "0.6124149423691154\n"
     ]
    }
   ],
   "source": [
    "# l-GBM is a booster which is similar to random forests, but has slight alterations which often\n",
    "# produce better results. We run our data through L-GBM to determine if this can produce better results\n",
    "\n",
    "import lightgbm as lgb\n",
    "from sklearn.preprocessing import LabelEncoder\n",
    "\n",
    "# we need to convert our labels to a number form for this so it can work with it\n",
    "label_encoder = LabelEncoder()\n",
    "y_train_encoded = label_encoder.fit_transform(y_train)\n",
    "y_valid_encoded = label_encoder.transform(y_valid)\n",
    "y_test_encoded = label_encoder.transform(y_test)\n",
    "\n",
    "# data needs to be converted into lgb datasets so that it can work with it\n",
    "X_train_wordCount_0005 = X_train_wordCount_0005.astype(float)\n",
    "X_valid_wordCount_0005 = X_valid_wordCount_0005.astype(float)\n",
    "X_test_wordCount_0005 = X_test_wordCount_0005.astype(float)\n",
    "train_data = lgb.Dataset(X_train_wordCount_0005, label=y_train_encoded)\n",
    "valid_data = lgb.Dataset(X_valid_wordCount_0005, label=y_valid_encoded, reference=train_data)\n",
    "test_data = lgb.Dataset(X_test_wordCount_0005, label=y_test_encoded, reference=train_data)\n",
    "\n",
    "# we set some hyperparameters specifying how the l-gbm should be run. We use light grandient boosting\n",
    "# machine as the boosting type, we indicate that it is multiclass and how many classes there are, and\n",
    "# we specify that there should be 300 boosting rounds.\n",
    "params = {\n",
    "    \"boosting_type\": \"gbdt\",\n",
    "    \"objective\": \"multiclass\",\n",
    "    \"num_class\": len(label_encoder.classes_),\n",
    "    \"num_round\": 300,\n",
    "}\n",
    "\n",
    "# we fit and predict genres, as numbers\n",
    "bst = lgb.train(params, train_data, valid_sets=[valid_data])\n",
    "y_pred = bst.predict(X_valid_wordCount_0005, num_iteration=bst.best_iteration)\n",
    "y_pred_testset = bst.predict(X_test_wordCount_0005, num_iteration=bst.best_iteration)\n",
    "\n",
    "# we convert the number genre predictions back into string labels\n",
    "y_pred_labels = label_encoder.inverse_transform(np.argmax(y_pred, axis=1))\n",
    "y_pred_testset_labels = label_encoder.inverse_transform(np.argmax(y_pred_testset, axis=1))\n",
    "\n",
    "gbm_accuracy = np.mean(y_valid == y_pred_labels)\n",
    "print(\"Accuracy of L-GBM Booster on Word Count BOW Data (Validation Set) with 300 Boosting Rounds: \")\n",
    "print(gbm_accuracy)\n",
    "\n",
    "gbm_testset_accuracy = np.mean(y_test == y_pred_testset_labels)\n",
    "print(\"Accuracy of L-GBM Booster on Word Count BOW Data (Test Set) with 300 Boosting Rounds: \")\n",
    "print(gbm_testset_accuracy)"
   ]
  },
  {
   "cell_type": "markdown",
   "metadata": {
    "id": "BixnAkmetput"
   },
   "source": [
    "## Compare Best Accuracy to Baseline"
   ]
  },
  {
   "cell_type": "code",
   "execution_count": 25,
   "metadata": {
    "id": "jbhHr6j4tput",
    "outputId": "c759fe5c-6287-4f61-8a78-e269c4463613"
   },
   "outputs": [
    {
     "name": "stdout",
     "output_type": "stream",
     "text": [
      "Test Set Accuracy of L-GBM vs. Random Forest vs. Baseline (on Word Count BOW)\n"
     ]
    },
    {
     "data": {
      "text/html": [
       "<div>\n",
       "<style scoped>\n",
       "    .dataframe tbody tr th:only-of-type {\n",
       "        vertical-align: middle;\n",
       "    }\n",
       "\n",
       "    .dataframe tbody tr th {\n",
       "        vertical-align: top;\n",
       "    }\n",
       "\n",
       "    .dataframe thead th {\n",
       "        text-align: right;\n",
       "    }\n",
       "</style>\n",
       "<table border=\"1\" class=\"dataframe\">\n",
       "  <thead>\n",
       "    <tr style=\"text-align: right;\">\n",
       "      <th></th>\n",
       "      <th>L-GBM Test Set Accuracy</th>\n",
       "      <th>Random Forest Set Set Accuracy (w Optimal Hyperparameters)</th>\n",
       "      <th>Baseline Accuracy (Random Genre Choice)</th>\n",
       "    </tr>\n",
       "  </thead>\n",
       "  <tbody>\n",
       "    <tr>\n",
       "      <th>0</th>\n",
       "      <td>0.612415</td>\n",
       "      <td>0.613989</td>\n",
       "      <td>0.090909</td>\n",
       "    </tr>\n",
       "  </tbody>\n",
       "</table>\n",
       "</div>"
      ],
      "text/plain": [
       "   L-GBM Test Set Accuracy  \\\n",
       "0                 0.612415   \n",
       "\n",
       "   Random Forest Set Set Accuracy (w Optimal Hyperparameters)  \\\n",
       "0                                           0.613989            \n",
       "\n",
       "   Baseline Accuracy (Random Genre Choice)  \n",
       "0                                 0.090909  "
      ]
     },
     "execution_count": 25,
     "metadata": {},
     "output_type": "execute_result"
    }
   ],
   "source": [
    "baseline = 1/(len(label_encoder.classes_))\n",
    "\n",
    "data = {\n",
    "    \"L-GBM Test Set Accuracy\": [gbm_testset_accuracy],\n",
    "    \"Random Forest Set Set Accuracy (w Optimal Hyperparameters)\": [accuracy_rf_optimal],\n",
    "    \"Baseline Accuracy (Random Genre Choice)\": [baseline]\n",
    "}\n",
    "\n",
    "df = pd.DataFrame(data)\n",
    "\n",
    "print(\"Test Set Accuracy of L-GBM vs. Random Forest vs. Baseline (on Word Count BOW)\")\n",
    "df"
   ]
  },
  {
   "cell_type": "markdown",
   "metadata": {
    "id": "QgT-sJtHtput"
   },
   "source": [
    "## Methods 3: Compare Random Forest L-GBM Booster, and Compare Best Results to Baseline\n",
    "    \n",
    "L-GBM (Light Gradient Boosting Machine) is a boosting algorithm which is similar to Random Forests, but can sometimes be more accurate. We run our same training set through L-GBM to see if it can give better results than our best random forest prediction. As shown in the pandas dataframe above, L-GBM gives us an accuracy of 61.24% on the test set, which is slightly worse than our Random Forest test set results of 61.39%. After finding the most accurate classifier (Random Forest), we compare our results against baseline, which we calculate by randomly choosing among the genres. "
   ]
  },
  {
   "cell_type": "markdown",
   "metadata": {
    "id": "-5CzNR7exdck"
   },
   "source": [
    "## Results\n",
    "\n",
    "Our comparison of TF-IDF Bag of Words to Word Count Bag of Words showed that both had very similar accuracy showed that a min_df constant of .0005 was best for both TF-IDF and word count bow, giving accuracy of 61.45% and 61.73%, respectively, on the validation set. The accuracy of Word Count BOW was actually slightly higher than the TF-IDF BOW, so Word Count BOW was chosen to use.\n",
    "\n",
    "When comparing our Random Forest classifier (with optimal hyperparameters) and L-GBM on the TWord Count BOW data, we found that Random Forest was slightly more accurate on the test set. As displayed in the pandas df above, random forest had an accuracy of 61.40% whereas L-GBM had an accuracy of 61.24%. So, while they were extremely similar, Random Forest had slightly more accurate results on the test set. \n",
    "\n",
    "By comparing our best results (Random Forest, at 61.40% accuracy) to our baseline accuracy, (from a Random Choice of genres) of 0.09, we found that our classifier was much more successful than baseline. \n",
    "\n",
    "While an accuracy of 61.40% is not as high as some classifiers, this is likely due to the nature of a classification based solely on lyrics, and the similarity of lyrics and themes in songs across multiple genres. Songs of different genres may sometimes have such similar themes and lyrics that no classifier could accurately classify all songs based on lyrics alone. In order to reach significantly higher accuracy, we would likely have to bring in additional features about the songs, such as tempo, chord pattern, etc. to assist with the classification. \n"
   ]
  }
 ],
 "metadata": {
  "colab": {
   "provenance": []
  },
  "kernelspec": {
   "display_name": "Python 3 (ipykernel)",
   "language": "python",
   "name": "python3"
  },
  "language_info": {
   "codemirror_mode": {
    "name": "ipython",
    "version": 3
   },
   "file_extension": ".py",
   "mimetype": "text/x-python",
   "name": "python",
   "nbconvert_exporter": "python",
   "pygments_lexer": "ipython3",
   "version": "3.11.4"
  }
 },
 "nbformat": 4,
 "nbformat_minor": 1
}
